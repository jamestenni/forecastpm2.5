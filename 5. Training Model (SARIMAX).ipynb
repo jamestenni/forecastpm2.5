{
 "cells": [
  {
   "cell_type": "markdown",
   "metadata": {},
   "source": [
    "### Import Necessary Packages"
   ]
  },
  {
   "cell_type": "code",
   "execution_count": 16,
   "metadata": {},
   "outputs": [],
   "source": [
    "import pandas as pd\n",
    "import numpy as np\n",
    "import matplotlib.pyplot as plt\n",
    "import numpy as np\n",
    "import warnings\n",
    "import os\n",
    "import math\n",
    "import itertools\n",
    "from tqdm import tqdm\n",
    "from matplotlib.pyplot import figure\n",
    "from sklearn.metrics import mean_squared_error\n",
    "from statsmodels.tsa.statespace.sarimax import SARIMAX\n",
    "from datetime import datetime, timedelta"
   ]
  },
  {
   "cell_type": "markdown",
   "metadata": {},
   "source": [
    "### Constant"
   ]
  },
  {
   "cell_type": "code",
   "execution_count": 17,
   "metadata": {},
   "outputs": [],
   "source": [
    "LOCS = [\"BKK\", \"Chiangmai\", \"Rayong\", \"Saraburi\", \"Khonkaen\", \"Surat\"]\n",
    "REGIONS = ['Thailand', 'Myanmar', 'Cambodia', 'Lao_PDR', 'P_Malaysia']\n",
    "\n",
    "base_dataset_path = './datasci_dataset_2022'\n",
    "base_processed_data_path = './processed_data'"
   ]
  },
  {
   "cell_type": "markdown",
   "metadata": {},
   "source": [
    "## General Functions"
   ]
  },
  {
   "cell_type": "code",
   "execution_count": 18,
   "metadata": {},
   "outputs": [],
   "source": [
    "def load_data(base_processed_data_path, PROVINCES, train = True):\n",
    "    data = {}\n",
    "    for province in PROVINCES:\n",
    "        if (train):\n",
    "            path = f'{base_processed_data_path}/{province}/{province.lower()}_train.csv'\n",
    "        else:\n",
    "            path = f'{base_processed_data_path}/{province}/{province.lower()}_test.csv'\n",
    "            \n",
    "        df = pd.read_csv(path)\n",
    "        df['date_time'] = pd.to_datetime(df['date_time'], format = '%Y-%m-%d %H:%M:%S')\n",
    "        df.sort_values(by = 'date_time', inplace = True)\n",
    "        df.set_index('date_time', inplace = True)\n",
    "        df.index.freq = '6h'\n",
    "        data[province] = df\n",
    "    return data\n",
    "\n",
    "def read_groundtruth_data(base_dataset_path, province):\n",
    "    path = f'{base_dataset_path}/{province}/test/{province.lower()}_test.csv'\n",
    "    df = pd.read_csv(path)\n",
    "    df.rename(columns = {df.columns[0]: 'date_time'}, inplace = True)\n",
    "    df['date_time'] = pd.to_datetime(df['date_time'], format = '%Y-%m-%d %H:%M:%S')\n",
    "    df.sort_values(by = 'date_time', inplace = True)\n",
    "    df.drop_duplicates(inplace = True)\n",
    "    \n",
    "    return df\n",
    "\n",
    "def get_current_dt():\n",
    "    current_dt = datetime.now()\n",
    "    return current_dt.strftime('%Y-%m-%d %H:%M:%S')"
   ]
  },
  {
   "cell_type": "markdown",
   "metadata": {},
   "source": [
    "## Load all the train and test data"
   ]
  },
  {
   "cell_type": "code",
   "execution_count": 19,
   "metadata": {},
   "outputs": [],
   "source": [
    "dfs_train = load_data(base_processed_data_path, LOCS, train = True)\n",
    "dfs_test = load_data(base_processed_data_path, LOCS, train = False)"
   ]
  },
  {
   "cell_type": "markdown",
   "metadata": {},
   "source": [
    "## Example Train Data"
   ]
  },
  {
   "cell_type": "code",
   "execution_count": 20,
   "metadata": {
    "scrolled": false
   },
   "outputs": [
    {
     "data": {
      "text/html": [
       "<div>\n",
       "<style scoped>\n",
       "    .dataframe tbody tr th:only-of-type {\n",
       "        vertical-align: middle;\n",
       "    }\n",
       "\n",
       "    .dataframe tbody tr th {\n",
       "        vertical-align: top;\n",
       "    }\n",
       "\n",
       "    .dataframe thead th {\n",
       "        text-align: right;\n",
       "    }\n",
       "</style>\n",
       "<table border=\"1\" class=\"dataframe\">\n",
       "  <thead>\n",
       "    <tr style=\"text-align: right;\">\n",
       "      <th></th>\n",
       "      <th>PM2.5</th>\n",
       "      <th>wind_speed</th>\n",
       "      <th>wind_dir</th>\n",
       "      <th>temp</th>\n",
       "      <th>hotspot_thailand</th>\n",
       "      <th>hotspot_myanmar</th>\n",
       "      <th>hotspot_cambodia</th>\n",
       "      <th>hotspot_lao_pdr</th>\n",
       "      <th>hotspot_p_malaysia</th>\n",
       "      <th>month_1</th>\n",
       "      <th>...</th>\n",
       "      <th>month_5</th>\n",
       "      <th>month_6</th>\n",
       "      <th>month_7</th>\n",
       "      <th>month_8</th>\n",
       "      <th>month_9</th>\n",
       "      <th>month_10</th>\n",
       "      <th>month_11</th>\n",
       "      <th>month_12</th>\n",
       "      <th>wind_dir_sin</th>\n",
       "      <th>wind_dir_cos</th>\n",
       "    </tr>\n",
       "    <tr>\n",
       "      <th>date_time</th>\n",
       "      <th></th>\n",
       "      <th></th>\n",
       "      <th></th>\n",
       "      <th></th>\n",
       "      <th></th>\n",
       "      <th></th>\n",
       "      <th></th>\n",
       "      <th></th>\n",
       "      <th></th>\n",
       "      <th></th>\n",
       "      <th></th>\n",
       "      <th></th>\n",
       "      <th></th>\n",
       "      <th></th>\n",
       "      <th></th>\n",
       "      <th></th>\n",
       "      <th></th>\n",
       "      <th></th>\n",
       "      <th></th>\n",
       "      <th></th>\n",
       "      <th></th>\n",
       "    </tr>\n",
       "  </thead>\n",
       "  <tbody>\n",
       "    <tr>\n",
       "      <th>2017-07-01 06:00:00</th>\n",
       "      <td>23.0</td>\n",
       "      <td>17.0</td>\n",
       "      <td>242.0</td>\n",
       "      <td>27.8</td>\n",
       "      <td>0.0</td>\n",
       "      <td>0.0</td>\n",
       "      <td>0.0</td>\n",
       "      <td>0.0</td>\n",
       "      <td>0.0</td>\n",
       "      <td>0</td>\n",
       "      <td>...</td>\n",
       "      <td>0</td>\n",
       "      <td>0</td>\n",
       "      <td>1</td>\n",
       "      <td>0</td>\n",
       "      <td>0</td>\n",
       "      <td>0</td>\n",
       "      <td>0</td>\n",
       "      <td>0</td>\n",
       "      <td>-0.8829</td>\n",
       "      <td>-0.4695</td>\n",
       "    </tr>\n",
       "    <tr>\n",
       "      <th>2017-07-01 12:00:00</th>\n",
       "      <td>15.0</td>\n",
       "      <td>18.0</td>\n",
       "      <td>250.0</td>\n",
       "      <td>32.6</td>\n",
       "      <td>0.0</td>\n",
       "      <td>0.0</td>\n",
       "      <td>1.0</td>\n",
       "      <td>0.0</td>\n",
       "      <td>1.0</td>\n",
       "      <td>0</td>\n",
       "      <td>...</td>\n",
       "      <td>0</td>\n",
       "      <td>0</td>\n",
       "      <td>1</td>\n",
       "      <td>0</td>\n",
       "      <td>0</td>\n",
       "      <td>0</td>\n",
       "      <td>0</td>\n",
       "      <td>0</td>\n",
       "      <td>-0.9397</td>\n",
       "      <td>-0.3420</td>\n",
       "    </tr>\n",
       "    <tr>\n",
       "      <th>2017-07-01 18:00:00</th>\n",
       "      <td>10.0</td>\n",
       "      <td>26.0</td>\n",
       "      <td>255.0</td>\n",
       "      <td>30.1</td>\n",
       "      <td>0.0</td>\n",
       "      <td>0.0</td>\n",
       "      <td>1.0</td>\n",
       "      <td>0.0</td>\n",
       "      <td>1.0</td>\n",
       "      <td>0</td>\n",
       "      <td>...</td>\n",
       "      <td>0</td>\n",
       "      <td>0</td>\n",
       "      <td>1</td>\n",
       "      <td>0</td>\n",
       "      <td>0</td>\n",
       "      <td>0</td>\n",
       "      <td>0</td>\n",
       "      <td>0</td>\n",
       "      <td>-0.9659</td>\n",
       "      <td>-0.2588</td>\n",
       "    </tr>\n",
       "    <tr>\n",
       "      <th>2017-07-02 00:00:00</th>\n",
       "      <td>17.0</td>\n",
       "      <td>20.0</td>\n",
       "      <td>262.0</td>\n",
       "      <td>28.1</td>\n",
       "      <td>0.0</td>\n",
       "      <td>0.0</td>\n",
       "      <td>0.0</td>\n",
       "      <td>0.0</td>\n",
       "      <td>0.0</td>\n",
       "      <td>0</td>\n",
       "      <td>...</td>\n",
       "      <td>0</td>\n",
       "      <td>0</td>\n",
       "      <td>1</td>\n",
       "      <td>0</td>\n",
       "      <td>0</td>\n",
       "      <td>0</td>\n",
       "      <td>0</td>\n",
       "      <td>0</td>\n",
       "      <td>-0.9903</td>\n",
       "      <td>-0.1392</td>\n",
       "    </tr>\n",
       "    <tr>\n",
       "      <th>2017-07-02 06:00:00</th>\n",
       "      <td>35.0</td>\n",
       "      <td>18.0</td>\n",
       "      <td>247.0</td>\n",
       "      <td>27.4</td>\n",
       "      <td>0.0</td>\n",
       "      <td>0.0</td>\n",
       "      <td>0.0</td>\n",
       "      <td>0.0</td>\n",
       "      <td>0.0</td>\n",
       "      <td>0</td>\n",
       "      <td>...</td>\n",
       "      <td>0</td>\n",
       "      <td>0</td>\n",
       "      <td>1</td>\n",
       "      <td>0</td>\n",
       "      <td>0</td>\n",
       "      <td>0</td>\n",
       "      <td>0</td>\n",
       "      <td>0</td>\n",
       "      <td>-0.9205</td>\n",
       "      <td>-0.3907</td>\n",
       "    </tr>\n",
       "    <tr>\n",
       "      <th>...</th>\n",
       "      <td>...</td>\n",
       "      <td>...</td>\n",
       "      <td>...</td>\n",
       "      <td>...</td>\n",
       "      <td>...</td>\n",
       "      <td>...</td>\n",
       "      <td>...</td>\n",
       "      <td>...</td>\n",
       "      <td>...</td>\n",
       "      <td>...</td>\n",
       "      <td>...</td>\n",
       "      <td>...</td>\n",
       "      <td>...</td>\n",
       "      <td>...</td>\n",
       "      <td>...</td>\n",
       "      <td>...</td>\n",
       "      <td>...</td>\n",
       "      <td>...</td>\n",
       "      <td>...</td>\n",
       "      <td>...</td>\n",
       "      <td>...</td>\n",
       "    </tr>\n",
       "    <tr>\n",
       "      <th>2020-06-29 18:00:00</th>\n",
       "      <td>8.0</td>\n",
       "      <td>24.0</td>\n",
       "      <td>257.0</td>\n",
       "      <td>30.7</td>\n",
       "      <td>1.0</td>\n",
       "      <td>0.0</td>\n",
       "      <td>1.0</td>\n",
       "      <td>0.0</td>\n",
       "      <td>0.0</td>\n",
       "      <td>0</td>\n",
       "      <td>...</td>\n",
       "      <td>0</td>\n",
       "      <td>1</td>\n",
       "      <td>0</td>\n",
       "      <td>0</td>\n",
       "      <td>0</td>\n",
       "      <td>0</td>\n",
       "      <td>0</td>\n",
       "      <td>0</td>\n",
       "      <td>-0.9744</td>\n",
       "      <td>-0.2250</td>\n",
       "    </tr>\n",
       "    <tr>\n",
       "      <th>2020-06-30 00:00:00</th>\n",
       "      <td>9.0</td>\n",
       "      <td>23.0</td>\n",
       "      <td>257.0</td>\n",
       "      <td>28.9</td>\n",
       "      <td>0.0</td>\n",
       "      <td>0.0</td>\n",
       "      <td>0.0</td>\n",
       "      <td>0.0</td>\n",
       "      <td>0.0</td>\n",
       "      <td>0</td>\n",
       "      <td>...</td>\n",
       "      <td>0</td>\n",
       "      <td>1</td>\n",
       "      <td>0</td>\n",
       "      <td>0</td>\n",
       "      <td>0</td>\n",
       "      <td>0</td>\n",
       "      <td>0</td>\n",
       "      <td>0</td>\n",
       "      <td>-0.9744</td>\n",
       "      <td>-0.2250</td>\n",
       "    </tr>\n",
       "    <tr>\n",
       "      <th>2020-06-30 06:00:00</th>\n",
       "      <td>14.0</td>\n",
       "      <td>23.0</td>\n",
       "      <td>255.0</td>\n",
       "      <td>28.3</td>\n",
       "      <td>0.0</td>\n",
       "      <td>0.0</td>\n",
       "      <td>0.0</td>\n",
       "      <td>0.0</td>\n",
       "      <td>0.0</td>\n",
       "      <td>0</td>\n",
       "      <td>...</td>\n",
       "      <td>0</td>\n",
       "      <td>1</td>\n",
       "      <td>0</td>\n",
       "      <td>0</td>\n",
       "      <td>0</td>\n",
       "      <td>0</td>\n",
       "      <td>0</td>\n",
       "      <td>0</td>\n",
       "      <td>-0.9659</td>\n",
       "      <td>-0.2588</td>\n",
       "    </tr>\n",
       "    <tr>\n",
       "      <th>2020-06-30 12:00:00</th>\n",
       "      <td>17.0</td>\n",
       "      <td>23.0</td>\n",
       "      <td>250.0</td>\n",
       "      <td>31.6</td>\n",
       "      <td>1.0</td>\n",
       "      <td>0.0</td>\n",
       "      <td>0.0</td>\n",
       "      <td>0.0</td>\n",
       "      <td>0.0</td>\n",
       "      <td>0</td>\n",
       "      <td>...</td>\n",
       "      <td>0</td>\n",
       "      <td>1</td>\n",
       "      <td>0</td>\n",
       "      <td>0</td>\n",
       "      <td>0</td>\n",
       "      <td>0</td>\n",
       "      <td>0</td>\n",
       "      <td>0</td>\n",
       "      <td>-0.9397</td>\n",
       "      <td>-0.3420</td>\n",
       "    </tr>\n",
       "    <tr>\n",
       "      <th>2020-06-30 18:00:00</th>\n",
       "      <td>11.0</td>\n",
       "      <td>36.0</td>\n",
       "      <td>262.0</td>\n",
       "      <td>30.9</td>\n",
       "      <td>1.0</td>\n",
       "      <td>0.0</td>\n",
       "      <td>0.0</td>\n",
       "      <td>0.0</td>\n",
       "      <td>0.0</td>\n",
       "      <td>0</td>\n",
       "      <td>...</td>\n",
       "      <td>0</td>\n",
       "      <td>1</td>\n",
       "      <td>0</td>\n",
       "      <td>0</td>\n",
       "      <td>0</td>\n",
       "      <td>0</td>\n",
       "      <td>0</td>\n",
       "      <td>0</td>\n",
       "      <td>-0.9903</td>\n",
       "      <td>-0.1392</td>\n",
       "    </tr>\n",
       "  </tbody>\n",
       "</table>\n",
       "<p>4383 rows × 23 columns</p>\n",
       "</div>"
      ],
      "text/plain": [
       "                     PM2.5  wind_speed  wind_dir  temp  hotspot_thailand  \\\n",
       "date_time                                                                  \n",
       "2017-07-01 06:00:00   23.0        17.0     242.0  27.8               0.0   \n",
       "2017-07-01 12:00:00   15.0        18.0     250.0  32.6               0.0   \n",
       "2017-07-01 18:00:00   10.0        26.0     255.0  30.1               0.0   \n",
       "2017-07-02 00:00:00   17.0        20.0     262.0  28.1               0.0   \n",
       "2017-07-02 06:00:00   35.0        18.0     247.0  27.4               0.0   \n",
       "...                    ...         ...       ...   ...               ...   \n",
       "2020-06-29 18:00:00    8.0        24.0     257.0  30.7               1.0   \n",
       "2020-06-30 00:00:00    9.0        23.0     257.0  28.9               0.0   \n",
       "2020-06-30 06:00:00   14.0        23.0     255.0  28.3               0.0   \n",
       "2020-06-30 12:00:00   17.0        23.0     250.0  31.6               1.0   \n",
       "2020-06-30 18:00:00   11.0        36.0     262.0  30.9               1.0   \n",
       "\n",
       "                     hotspot_myanmar  hotspot_cambodia  hotspot_lao_pdr  \\\n",
       "date_time                                                                 \n",
       "2017-07-01 06:00:00              0.0               0.0              0.0   \n",
       "2017-07-01 12:00:00              0.0               1.0              0.0   \n",
       "2017-07-01 18:00:00              0.0               1.0              0.0   \n",
       "2017-07-02 00:00:00              0.0               0.0              0.0   \n",
       "2017-07-02 06:00:00              0.0               0.0              0.0   \n",
       "...                              ...               ...              ...   \n",
       "2020-06-29 18:00:00              0.0               1.0              0.0   \n",
       "2020-06-30 00:00:00              0.0               0.0              0.0   \n",
       "2020-06-30 06:00:00              0.0               0.0              0.0   \n",
       "2020-06-30 12:00:00              0.0               0.0              0.0   \n",
       "2020-06-30 18:00:00              0.0               0.0              0.0   \n",
       "\n",
       "                     hotspot_p_malaysia  month_1  ...  month_5  month_6  \\\n",
       "date_time                                         ...                     \n",
       "2017-07-01 06:00:00                 0.0        0  ...        0        0   \n",
       "2017-07-01 12:00:00                 1.0        0  ...        0        0   \n",
       "2017-07-01 18:00:00                 1.0        0  ...        0        0   \n",
       "2017-07-02 00:00:00                 0.0        0  ...        0        0   \n",
       "2017-07-02 06:00:00                 0.0        0  ...        0        0   \n",
       "...                                 ...      ...  ...      ...      ...   \n",
       "2020-06-29 18:00:00                 0.0        0  ...        0        1   \n",
       "2020-06-30 00:00:00                 0.0        0  ...        0        1   \n",
       "2020-06-30 06:00:00                 0.0        0  ...        0        1   \n",
       "2020-06-30 12:00:00                 0.0        0  ...        0        1   \n",
       "2020-06-30 18:00:00                 0.0        0  ...        0        1   \n",
       "\n",
       "                     month_7  month_8  month_9  month_10  month_11  month_12  \\\n",
       "date_time                                                                      \n",
       "2017-07-01 06:00:00        1        0        0         0         0         0   \n",
       "2017-07-01 12:00:00        1        0        0         0         0         0   \n",
       "2017-07-01 18:00:00        1        0        0         0         0         0   \n",
       "2017-07-02 00:00:00        1        0        0         0         0         0   \n",
       "2017-07-02 06:00:00        1        0        0         0         0         0   \n",
       "...                      ...      ...      ...       ...       ...       ...   \n",
       "2020-06-29 18:00:00        0        0        0         0         0         0   \n",
       "2020-06-30 00:00:00        0        0        0         0         0         0   \n",
       "2020-06-30 06:00:00        0        0        0         0         0         0   \n",
       "2020-06-30 12:00:00        0        0        0         0         0         0   \n",
       "2020-06-30 18:00:00        0        0        0         0         0         0   \n",
       "\n",
       "                     wind_dir_sin  wind_dir_cos  \n",
       "date_time                                        \n",
       "2017-07-01 06:00:00       -0.8829       -0.4695  \n",
       "2017-07-01 12:00:00       -0.9397       -0.3420  \n",
       "2017-07-01 18:00:00       -0.9659       -0.2588  \n",
       "2017-07-02 00:00:00       -0.9903       -0.1392  \n",
       "2017-07-02 06:00:00       -0.9205       -0.3907  \n",
       "...                           ...           ...  \n",
       "2020-06-29 18:00:00       -0.9744       -0.2250  \n",
       "2020-06-30 00:00:00       -0.9744       -0.2250  \n",
       "2020-06-30 06:00:00       -0.9659       -0.2588  \n",
       "2020-06-30 12:00:00       -0.9397       -0.3420  \n",
       "2020-06-30 18:00:00       -0.9903       -0.1392  \n",
       "\n",
       "[4383 rows x 23 columns]"
      ]
     },
     "execution_count": 20,
     "metadata": {},
     "output_type": "execute_result"
    }
   ],
   "source": [
    "dfs_train['BKK']"
   ]
  },
  {
   "cell_type": "markdown",
   "metadata": {},
   "source": [
    "## Example Test Data"
   ]
  },
  {
   "cell_type": "code",
   "execution_count": 22,
   "metadata": {},
   "outputs": [
    {
     "data": {
      "text/html": [
       "<div>\n",
       "<style scoped>\n",
       "    .dataframe tbody tr th:only-of-type {\n",
       "        vertical-align: middle;\n",
       "    }\n",
       "\n",
       "    .dataframe tbody tr th {\n",
       "        vertical-align: top;\n",
       "    }\n",
       "\n",
       "    .dataframe thead th {\n",
       "        text-align: right;\n",
       "    }\n",
       "</style>\n",
       "<table border=\"1\" class=\"dataframe\">\n",
       "  <thead>\n",
       "    <tr style=\"text-align: right;\">\n",
       "      <th></th>\n",
       "      <th>PM2.5</th>\n",
       "      <th>wind_speed</th>\n",
       "      <th>wind_dir</th>\n",
       "      <th>temp</th>\n",
       "      <th>hotspot_thailand</th>\n",
       "      <th>hotspot_myanmar</th>\n",
       "      <th>hotspot_cambodia</th>\n",
       "      <th>hotspot_lao_pdr</th>\n",
       "      <th>hotspot_p_malaysia</th>\n",
       "      <th>month_1</th>\n",
       "      <th>...</th>\n",
       "      <th>month_5</th>\n",
       "      <th>month_6</th>\n",
       "      <th>month_7</th>\n",
       "      <th>month_8</th>\n",
       "      <th>month_9</th>\n",
       "      <th>month_10</th>\n",
       "      <th>month_11</th>\n",
       "      <th>month_12</th>\n",
       "      <th>wind_dir_sin</th>\n",
       "      <th>wind_dir_cos</th>\n",
       "    </tr>\n",
       "    <tr>\n",
       "      <th>date_time</th>\n",
       "      <th></th>\n",
       "      <th></th>\n",
       "      <th></th>\n",
       "      <th></th>\n",
       "      <th></th>\n",
       "      <th></th>\n",
       "      <th></th>\n",
       "      <th></th>\n",
       "      <th></th>\n",
       "      <th></th>\n",
       "      <th></th>\n",
       "      <th></th>\n",
       "      <th></th>\n",
       "      <th></th>\n",
       "      <th></th>\n",
       "      <th></th>\n",
       "      <th></th>\n",
       "      <th></th>\n",
       "      <th></th>\n",
       "      <th></th>\n",
       "      <th></th>\n",
       "    </tr>\n",
       "  </thead>\n",
       "  <tbody>\n",
       "    <tr>\n",
       "      <th>2020-07-01 00:00:00</th>\n",
       "      <td>9.0</td>\n",
       "      <td>36.0</td>\n",
       "      <td>262.0</td>\n",
       "      <td>30.9</td>\n",
       "      <td>0.0</td>\n",
       "      <td>0.0</td>\n",
       "      <td>0.0</td>\n",
       "      <td>0.0</td>\n",
       "      <td>0.0</td>\n",
       "      <td>0</td>\n",
       "      <td>...</td>\n",
       "      <td>0</td>\n",
       "      <td>0</td>\n",
       "      <td>1</td>\n",
       "      <td>0</td>\n",
       "      <td>0</td>\n",
       "      <td>0</td>\n",
       "      <td>0</td>\n",
       "      <td>0</td>\n",
       "      <td>-0.9903</td>\n",
       "      <td>-0.1392</td>\n",
       "    </tr>\n",
       "    <tr>\n",
       "      <th>2020-07-01 06:00:00</th>\n",
       "      <td>11.0</td>\n",
       "      <td>55.0</td>\n",
       "      <td>270.0</td>\n",
       "      <td>28.3</td>\n",
       "      <td>0.0</td>\n",
       "      <td>0.0</td>\n",
       "      <td>0.0</td>\n",
       "      <td>0.0</td>\n",
       "      <td>0.0</td>\n",
       "      <td>0</td>\n",
       "      <td>...</td>\n",
       "      <td>0</td>\n",
       "      <td>0</td>\n",
       "      <td>1</td>\n",
       "      <td>0</td>\n",
       "      <td>0</td>\n",
       "      <td>0</td>\n",
       "      <td>0</td>\n",
       "      <td>0</td>\n",
       "      <td>-1.0000</td>\n",
       "      <td>-0.0000</td>\n",
       "    </tr>\n",
       "    <tr>\n",
       "      <th>2020-07-01 12:00:00</th>\n",
       "      <td>15.0</td>\n",
       "      <td>51.0</td>\n",
       "      <td>260.0</td>\n",
       "      <td>29.7</td>\n",
       "      <td>2.0</td>\n",
       "      <td>0.0</td>\n",
       "      <td>0.0</td>\n",
       "      <td>0.0</td>\n",
       "      <td>0.0</td>\n",
       "      <td>0</td>\n",
       "      <td>...</td>\n",
       "      <td>0</td>\n",
       "      <td>0</td>\n",
       "      <td>1</td>\n",
       "      <td>0</td>\n",
       "      <td>0</td>\n",
       "      <td>0</td>\n",
       "      <td>0</td>\n",
       "      <td>0</td>\n",
       "      <td>-0.9848</td>\n",
       "      <td>-0.1736</td>\n",
       "    </tr>\n",
       "    <tr>\n",
       "      <th>2020-07-01 18:00:00</th>\n",
       "      <td>14.0</td>\n",
       "      <td>35.0</td>\n",
       "      <td>265.0</td>\n",
       "      <td>29.5</td>\n",
       "      <td>2.0</td>\n",
       "      <td>0.0</td>\n",
       "      <td>0.0</td>\n",
       "      <td>0.0</td>\n",
       "      <td>0.0</td>\n",
       "      <td>0</td>\n",
       "      <td>...</td>\n",
       "      <td>0</td>\n",
       "      <td>0</td>\n",
       "      <td>1</td>\n",
       "      <td>0</td>\n",
       "      <td>0</td>\n",
       "      <td>0</td>\n",
       "      <td>0</td>\n",
       "      <td>0</td>\n",
       "      <td>-0.9962</td>\n",
       "      <td>-0.0872</td>\n",
       "    </tr>\n",
       "    <tr>\n",
       "      <th>2020-07-02 00:00:00</th>\n",
       "      <td>18.0</td>\n",
       "      <td>60.0</td>\n",
       "      <td>275.0</td>\n",
       "      <td>28.7</td>\n",
       "      <td>0.0</td>\n",
       "      <td>0.0</td>\n",
       "      <td>0.0</td>\n",
       "      <td>0.0</td>\n",
       "      <td>0.0</td>\n",
       "      <td>0</td>\n",
       "      <td>...</td>\n",
       "      <td>0</td>\n",
       "      <td>0</td>\n",
       "      <td>1</td>\n",
       "      <td>0</td>\n",
       "      <td>0</td>\n",
       "      <td>0</td>\n",
       "      <td>0</td>\n",
       "      <td>0</td>\n",
       "      <td>-0.9962</td>\n",
       "      <td>0.0872</td>\n",
       "    </tr>\n",
       "    <tr>\n",
       "      <th>...</th>\n",
       "      <td>...</td>\n",
       "      <td>...</td>\n",
       "      <td>...</td>\n",
       "      <td>...</td>\n",
       "      <td>...</td>\n",
       "      <td>...</td>\n",
       "      <td>...</td>\n",
       "      <td>...</td>\n",
       "      <td>...</td>\n",
       "      <td>...</td>\n",
       "      <td>...</td>\n",
       "      <td>...</td>\n",
       "      <td>...</td>\n",
       "      <td>...</td>\n",
       "      <td>...</td>\n",
       "      <td>...</td>\n",
       "      <td>...</td>\n",
       "      <td>...</td>\n",
       "      <td>...</td>\n",
       "      <td>...</td>\n",
       "      <td>...</td>\n",
       "    </tr>\n",
       "    <tr>\n",
       "      <th>2021-06-30 18:00:00</th>\n",
       "      <td>15.0</td>\n",
       "      <td>29.0</td>\n",
       "      <td>270.0</td>\n",
       "      <td>26.0</td>\n",
       "      <td>0.0</td>\n",
       "      <td>0.0</td>\n",
       "      <td>4.0</td>\n",
       "      <td>2.0</td>\n",
       "      <td>0.0</td>\n",
       "      <td>0</td>\n",
       "      <td>...</td>\n",
       "      <td>0</td>\n",
       "      <td>1</td>\n",
       "      <td>0</td>\n",
       "      <td>0</td>\n",
       "      <td>0</td>\n",
       "      <td>0</td>\n",
       "      <td>0</td>\n",
       "      <td>0</td>\n",
       "      <td>-1.0000</td>\n",
       "      <td>-0.0000</td>\n",
       "    </tr>\n",
       "    <tr>\n",
       "      <th>2021-07-01 00:00:00</th>\n",
       "      <td>15.0</td>\n",
       "      <td>20.0</td>\n",
       "      <td>265.0</td>\n",
       "      <td>28.4</td>\n",
       "      <td>0.0</td>\n",
       "      <td>0.0</td>\n",
       "      <td>0.0</td>\n",
       "      <td>0.0</td>\n",
       "      <td>0.0</td>\n",
       "      <td>0</td>\n",
       "      <td>...</td>\n",
       "      <td>0</td>\n",
       "      <td>0</td>\n",
       "      <td>1</td>\n",
       "      <td>0</td>\n",
       "      <td>0</td>\n",
       "      <td>0</td>\n",
       "      <td>0</td>\n",
       "      <td>0</td>\n",
       "      <td>-0.9962</td>\n",
       "      <td>-0.0872</td>\n",
       "    </tr>\n",
       "    <tr>\n",
       "      <th>2021-07-01 06:00:00</th>\n",
       "      <td>14.0</td>\n",
       "      <td>21.0</td>\n",
       "      <td>275.0</td>\n",
       "      <td>26.5</td>\n",
       "      <td>0.0</td>\n",
       "      <td>0.0</td>\n",
       "      <td>0.0</td>\n",
       "      <td>0.0</td>\n",
       "      <td>0.0</td>\n",
       "      <td>0</td>\n",
       "      <td>...</td>\n",
       "      <td>0</td>\n",
       "      <td>0</td>\n",
       "      <td>1</td>\n",
       "      <td>0</td>\n",
       "      <td>0</td>\n",
       "      <td>0</td>\n",
       "      <td>0</td>\n",
       "      <td>0</td>\n",
       "      <td>-0.9962</td>\n",
       "      <td>0.0872</td>\n",
       "    </tr>\n",
       "    <tr>\n",
       "      <th>2021-07-01 12:00:00</th>\n",
       "      <td>14.0</td>\n",
       "      <td>17.0</td>\n",
       "      <td>245.0</td>\n",
       "      <td>32.3</td>\n",
       "      <td>0.0</td>\n",
       "      <td>0.0</td>\n",
       "      <td>5.0</td>\n",
       "      <td>0.0</td>\n",
       "      <td>1.0</td>\n",
       "      <td>0</td>\n",
       "      <td>...</td>\n",
       "      <td>0</td>\n",
       "      <td>0</td>\n",
       "      <td>1</td>\n",
       "      <td>0</td>\n",
       "      <td>0</td>\n",
       "      <td>0</td>\n",
       "      <td>0</td>\n",
       "      <td>0</td>\n",
       "      <td>-0.9063</td>\n",
       "      <td>-0.4226</td>\n",
       "    </tr>\n",
       "    <tr>\n",
       "      <th>2021-07-01 18:00:00</th>\n",
       "      <td>14.0</td>\n",
       "      <td>21.0</td>\n",
       "      <td>245.0</td>\n",
       "      <td>31.2</td>\n",
       "      <td>0.0</td>\n",
       "      <td>0.0</td>\n",
       "      <td>5.0</td>\n",
       "      <td>0.0</td>\n",
       "      <td>1.0</td>\n",
       "      <td>0</td>\n",
       "      <td>...</td>\n",
       "      <td>0</td>\n",
       "      <td>0</td>\n",
       "      <td>1</td>\n",
       "      <td>0</td>\n",
       "      <td>0</td>\n",
       "      <td>0</td>\n",
       "      <td>0</td>\n",
       "      <td>0</td>\n",
       "      <td>-0.9063</td>\n",
       "      <td>-0.4226</td>\n",
       "    </tr>\n",
       "  </tbody>\n",
       "</table>\n",
       "<p>1464 rows × 23 columns</p>\n",
       "</div>"
      ],
      "text/plain": [
       "                     PM2.5  wind_speed  wind_dir  temp  hotspot_thailand  \\\n",
       "date_time                                                                  \n",
       "2020-07-01 00:00:00    9.0        36.0     262.0  30.9               0.0   \n",
       "2020-07-01 06:00:00   11.0        55.0     270.0  28.3               0.0   \n",
       "2020-07-01 12:00:00   15.0        51.0     260.0  29.7               2.0   \n",
       "2020-07-01 18:00:00   14.0        35.0     265.0  29.5               2.0   \n",
       "2020-07-02 00:00:00   18.0        60.0     275.0  28.7               0.0   \n",
       "...                    ...         ...       ...   ...               ...   \n",
       "2021-06-30 18:00:00   15.0        29.0     270.0  26.0               0.0   \n",
       "2021-07-01 00:00:00   15.0        20.0     265.0  28.4               0.0   \n",
       "2021-07-01 06:00:00   14.0        21.0     275.0  26.5               0.0   \n",
       "2021-07-01 12:00:00   14.0        17.0     245.0  32.3               0.0   \n",
       "2021-07-01 18:00:00   14.0        21.0     245.0  31.2               0.0   \n",
       "\n",
       "                     hotspot_myanmar  hotspot_cambodia  hotspot_lao_pdr  \\\n",
       "date_time                                                                 \n",
       "2020-07-01 00:00:00              0.0               0.0              0.0   \n",
       "2020-07-01 06:00:00              0.0               0.0              0.0   \n",
       "2020-07-01 12:00:00              0.0               0.0              0.0   \n",
       "2020-07-01 18:00:00              0.0               0.0              0.0   \n",
       "2020-07-02 00:00:00              0.0               0.0              0.0   \n",
       "...                              ...               ...              ...   \n",
       "2021-06-30 18:00:00              0.0               4.0              2.0   \n",
       "2021-07-01 00:00:00              0.0               0.0              0.0   \n",
       "2021-07-01 06:00:00              0.0               0.0              0.0   \n",
       "2021-07-01 12:00:00              0.0               5.0              0.0   \n",
       "2021-07-01 18:00:00              0.0               5.0              0.0   \n",
       "\n",
       "                     hotspot_p_malaysia  month_1  ...  month_5  month_6  \\\n",
       "date_time                                         ...                     \n",
       "2020-07-01 00:00:00                 0.0        0  ...        0        0   \n",
       "2020-07-01 06:00:00                 0.0        0  ...        0        0   \n",
       "2020-07-01 12:00:00                 0.0        0  ...        0        0   \n",
       "2020-07-01 18:00:00                 0.0        0  ...        0        0   \n",
       "2020-07-02 00:00:00                 0.0        0  ...        0        0   \n",
       "...                                 ...      ...  ...      ...      ...   \n",
       "2021-06-30 18:00:00                 0.0        0  ...        0        1   \n",
       "2021-07-01 00:00:00                 0.0        0  ...        0        0   \n",
       "2021-07-01 06:00:00                 0.0        0  ...        0        0   \n",
       "2021-07-01 12:00:00                 1.0        0  ...        0        0   \n",
       "2021-07-01 18:00:00                 1.0        0  ...        0        0   \n",
       "\n",
       "                     month_7  month_8  month_9  month_10  month_11  month_12  \\\n",
       "date_time                                                                      \n",
       "2020-07-01 00:00:00        1        0        0         0         0         0   \n",
       "2020-07-01 06:00:00        1        0        0         0         0         0   \n",
       "2020-07-01 12:00:00        1        0        0         0         0         0   \n",
       "2020-07-01 18:00:00        1        0        0         0         0         0   \n",
       "2020-07-02 00:00:00        1        0        0         0         0         0   \n",
       "...                      ...      ...      ...       ...       ...       ...   \n",
       "2021-06-30 18:00:00        0        0        0         0         0         0   \n",
       "2021-07-01 00:00:00        1        0        0         0         0         0   \n",
       "2021-07-01 06:00:00        1        0        0         0         0         0   \n",
       "2021-07-01 12:00:00        1        0        0         0         0         0   \n",
       "2021-07-01 18:00:00        1        0        0         0         0         0   \n",
       "\n",
       "                     wind_dir_sin  wind_dir_cos  \n",
       "date_time                                        \n",
       "2020-07-01 00:00:00       -0.9903       -0.1392  \n",
       "2020-07-01 06:00:00       -1.0000       -0.0000  \n",
       "2020-07-01 12:00:00       -0.9848       -0.1736  \n",
       "2020-07-01 18:00:00       -0.9962       -0.0872  \n",
       "2020-07-02 00:00:00       -0.9962        0.0872  \n",
       "...                           ...           ...  \n",
       "2021-06-30 18:00:00       -1.0000       -0.0000  \n",
       "2021-07-01 00:00:00       -0.9962       -0.0872  \n",
       "2021-07-01 06:00:00       -0.9962        0.0872  \n",
       "2021-07-01 12:00:00       -0.9063       -0.4226  \n",
       "2021-07-01 18:00:00       -0.9063       -0.4226  \n",
       "\n",
       "[1464 rows x 23 columns]"
      ]
     },
     "execution_count": 22,
     "metadata": {},
     "output_type": "execute_result"
    }
   ],
   "source": [
    "dfs_test['BKK']"
   ]
  },
  {
   "cell_type": "markdown",
   "metadata": {},
   "source": [
    "## SARIMAX Model"
   ]
  },
  {
   "cell_type": "markdown",
   "metadata": {},
   "source": [
    "### Functions involved"
   ]
  },
  {
   "cell_type": "code",
   "execution_count": 6,
   "metadata": {},
   "outputs": [],
   "source": [
    "def initialize_SARIMAX_models(df_train, exog_columns, best_order, best_seasonal_order, target = 'PM2.5'):\n",
    "    '''\n",
    "    [Input]\n",
    "        - df_train = a pandas DataFrame of all training data\n",
    "        - exog_columns = list of all exog vairables name\n",
    "        - best_order = (p, d ,q)\n",
    "        - best_seasonal_order = (P, D, Q, s)\n",
    "        - target = PM2.5\n",
    "    [Output]\n",
    "        - target_result\n",
    "        - exog_result_d\n",
    "    '''\n",
    "    # create a model for target varaiable\n",
    "    target_mod = SARIMAX(df_train[target], \n",
    "                         exog = df_train[exog_columns],\n",
    "                         order = best_order, seasonal_order = best_seasonal_order,\n",
    "                         enforce_stationarity = False, enforce_invertibility = False)   \n",
    "    target_result = target_mod.fit(disp = 0)\n",
    "    \n",
    "    # create models for exog variables (except for month_x (no need model to predict))\n",
    "    exog_result_d = {}\n",
    "    for exog_variable in exog_columns:\n",
    "        if (exog_variable.startswith('month_')):\n",
    "            continue\n",
    "        exog_mod = SARIMAX(df_train[exog_variable],\n",
    "                          order = best_order, seasonal_order = best_seasonal_order,\n",
    "                          enforce_stationarity = False, enforce_invertibility = False) \n",
    "        exog_result = exog_mod.fit(disp = 0)\n",
    "        exog_result_d[exog_variable] = exog_result\n",
    "    \n",
    "    return target_result, exog_result_d\n",
    "\n",
    "\n",
    "def get_predictions(df_test, target_result, exog_result_d, exog_columns, is_month_included = True, target = 'PM2.5', n_steps = 12):\n",
    "    # results which will be used to forecast are needed to be update to predict the next timestep\n",
    "    target_result_update = target_result\n",
    "    exog_result_d_update = exog_result_d\n",
    "    \n",
    "    all_target_predicted = []\n",
    "    for i in tqdm(range(df_test.shape[0])):\n",
    "        # use for debugging ------------------------------\n",
    "#         if (i == 2):\n",
    "#             break\n",
    "        # ------------------------------------------------\n",
    "        \n",
    "        current_ts = df_test.index[i]\n",
    "        \n",
    "        # First, append the target data / exog data of 'current timestep' to target_result_update\n",
    "        target_result_update = target_result_update.append(endog = df_test[target].iloc[i:i+1],\n",
    "                                                          exog = df_test[exog_columns].iloc[i:i+1])\n",
    "        # Next, append the exog data of 'current timestep' to each exog_result in exog_result_d_update\n",
    "        for exog_variable in exog_columns:\n",
    "            if (exog_variable.startswith('month_')):\n",
    "                continue\n",
    "            exog_result_d_update[exog_variable] = exog_result_d_update[exog_variable].append(endog = df_test[exog_variable].iloc[i:i+1])\n",
    "    \n",
    "        # Then, we will use the exog result to forecast the exog variables in the next 12 timesteps first\n",
    "        exog_predicted = []\n",
    "        for exog_variable in exog_columns:\n",
    "            if (exog_variable.startswith('month_')):\n",
    "                continue\n",
    "            exog_p = exog_result_d_update[exog_variable].forecast(steps = n_steps)\n",
    "            exog_p = exog_p.rename(exog_variable)\n",
    "            exog_predicted.append(exog_p)\n",
    "        exog_predicted = pd.concat(exog_predicted, axis = 1)\n",
    "        if (is_month_included):\n",
    "            df_next_n_ts = generate_month_exog_columns(current_ts)\n",
    "            exog_predicted = pd.merge(exog_predicted, df_next_n_ts, on = df_next_n_ts.index, how = 'left')\n",
    "        \n",
    "        # Use the predicted exog variables to predict the target vairable for the next 12 timesteps\n",
    "        target_predicted = target_result_update.forecast(exog = exog_predicted[exog_columns], steps = n_steps)\n",
    "        \n",
    "        for predict_ts in target_predicted.index:\n",
    "            all_target_predicted.append([current_ts, predict_ts, target_predicted[predict_ts]])\n",
    "            \n",
    "    all_target_predicted = pd.DataFrame(all_target_predicted, columns = ['Time', 'Predicted', 'PM2.5_Predicted'])\n",
    "    return all_target_predicted\n",
    "\n",
    "def remove_missing_and_invalid_date_from_predictions(df_predicted, df_gt, province):\n",
    "    # remove missing date first\n",
    "    missing_date_path = f'./datasci_dataset_2022/_missing_date/missing_test_date_{province.lower()}.csv'\n",
    "    df_missing_date = pd.read_csv(missing_date_path, usecols = ['0']).rename({'0': 'Predicted'}, axis = 1)\n",
    "    df_missing_date['Predicted'] = pd.to_datetime(df_missing_date['Predicted'], format = '%Y-%m-%d %H:%M:%S')\n",
    "    df_missing_date['missing'] = True\n",
    "    \n",
    "    df_predicted = pd.merge(df_predicted, df_missing_date, on = 'Predicted', how = 'left')\n",
    "    df_predicted.fillna({'missing': False}, inplace = True)\n",
    "    \n",
    "    df_predicted = df_predicted[df_predicted['missing'] == False].iloc[:, :-1]\n",
    "    \n",
    "    # remove out of range date\n",
    "    first_dt = df_gt.iloc[0]['date_time']\n",
    "    last_dt = df_gt.iloc[-1]['date_time']\n",
    "    \n",
    "    df_predicted = df_predicted[(first_dt <= df_predicted['Predicted']) & (df_predicted['Predicted'] <= last_dt)]\n",
    "    return df_predicted\n",
    "\n",
    "def combine_grondtruth_data(df_predicted, df_gt):\n",
    "    df_gt = df_gt.copy()\n",
    "    df_gt.rename(columns = {'date_time': 'Predicted'}, inplace = True)\n",
    "    \n",
    "    df_predicted = pd.merge(df_predicted, df_gt, on = 'Predicted', how = 'left')\n",
    "    return df_predicted\n",
    "\n",
    "def calculate_RMSE(df_predicted):\n",
    "    df_predicted['adiff'] = abs(df_predicted['PM2.5_Predicted'] - df_predicted['PM2.5'])\n",
    "    df_predicted['diff2'] = df_predicted['adiff']**2\n",
    "    rmse = (df_predicted['diff2'].mean())**0.5\n",
    "    return rmse, df_predicted"
   ]
  },
  {
   "cell_type": "markdown",
   "metadata": {},
   "source": [
    "#### Helper functions"
   ]
  },
  {
   "cell_type": "code",
   "execution_count": 7,
   "metadata": {},
   "outputs": [],
   "source": [
    "def generate_month_exog_columns(current_ts, freq = '6h', n_steps = 12):\n",
    "    df_next_n_ts = pd.DataFrame([current_ts +  pd.tseries.frequencies.to_offset('6h')*i  for i in range (1, n_steps+1)], columns = ['date_time'])\n",
    "    df_next_n_ts['month'] = df_next_n_ts['date_time'].dt.month\n",
    "    \n",
    "    for i in range (1, 13):\n",
    "        df_next_n_ts[f'month_{i}'] = df_next_n_ts['month'] == i\n",
    "        df_next_n_ts[f'month_{i}'] = df_next_n_ts[f'month_{i}'].astype(int)\n",
    "        \n",
    "    df_next_n_ts.drop(columns = 'month', inplace = True)\n",
    "    \n",
    "    return df_next_n_ts.set_index('date_time')"
   ]
  },
  {
   "cell_type": "code",
   "execution_count": 8,
   "metadata": {},
   "outputs": [],
   "source": [
    "warnings.filterwarnings(\"ignore\")"
   ]
  },
  {
   "cell_type": "markdown",
   "metadata": {},
   "source": [
    "#### Overall"
   ]
  },
  {
   "cell_type": "code",
   "execution_count": 9,
   "metadata": {},
   "outputs": [],
   "source": [
    "def generate_result_on_single_province(province, df_train, df_test, exog_columns, best_order, best_seasonal_order, is_month_included):   \n",
    "    df_gt = read_groundtruth_data(base_dataset_path, province)\n",
    "    target_result, exog_result_d = initialize_SARIMAX_models(df_train, exog_columns, best_order, best_seasonal_order)\n",
    "    df_predicted = get_predictions(df_test, target_result, exog_result_d, exog_columns, is_month_included = is_month_included)\n",
    "    df_predicted = remove_missing_and_invalid_date_from_predictions(df_predicted, df_gt, province)\n",
    "    df_predicted = combine_grondtruth_data(df_predicted, df_gt)\n",
    "    rmse, df_predicted = calculate_RMSE(df_predicted)\n",
    "    df_predicted['province'] = province\n",
    "    \n",
    "    return df_predicted, rmse\n",
    "\n",
    "def generate_result_on_all_provinces(province_arr, dfs_train, dfs_test, exog_columns_d, best_order_d, best_seasonal_order_d, is_month_included_d, filename):\n",
    "    all_predicted = []\n",
    "    \n",
    "    i = 1\n",
    "    for province in province_arr:\n",
    "        df_train = dfs_train[province]\n",
    "        df_test = dfs_test[province]\n",
    "        exog_columns = exog_columns_d[province]\n",
    "        best_order = best_order_d[province]\n",
    "        best_seasonal_order = best_seasonal_order_d[province]\n",
    "        is_month_included = is_month_included_d[province]\n",
    "        \n",
    "        print(f'Province [{i}/{len(province_arr)}]: {province}')\n",
    "        print(f'(start at: {get_current_dt()})')\n",
    "        print(f'Parameters: order = {best_order}, seasonal_order = {best_seasonal_order}')\n",
    "        print(f'Exog Columns: {exog_columns}')\n",
    "        df_predicted, rmse = generate_result_on_single_province(province, df_train, df_test, exog_columns, best_order, best_seasonal_order, is_month_included = is_month_included)\n",
    "        print(f'Test on SARIMAX with RMSE = {rmse:.4f}')\n",
    "        print(f'(finish at: {get_current_dt()})\\n')\n",
    "        all_predicted.append(df_predicted)\n",
    "        i += 1\n",
    "    \n",
    "    all_predicted = pd.concat(all_predicted, axis = 0)\n",
    "    all_predicted.reset_index(drop = True, inplace = True)\n",
    "    \n",
    "    # final evaluation\n",
    "    final_rmse = (all_predicted['diff2'].mean())**0.5\n",
    "    print('-----------------------------------------------------------------')\n",
    "    print(f'Final test on SARIMAX with RMSE = {final_rmse:.4f}')\n",
    "    print('-----------------------------------------------------------------')\n",
    "    \n",
    "    # save result\n",
    "    df = pd.DataFrame()\n",
    "    df['id'] = np.arange(all_predicted.shape[0])\n",
    "    df['Predicted'] = all_predicted['PM2.5_Predicted']\n",
    "    \n",
    "    base_path = f'./submission'\n",
    "    # check if path exists (if not create it)\n",
    "    if not os.path.exists(base_path):\n",
    "        os.mkdir(base_path)\n",
    "    path = f'{base_path}/{filename}'\n",
    "    \n",
    "    df.to_csv(path, index = False)\n",
    "    print(f\"Total of {df.shape[0]} predicted rows\")\n",
    "    \n",
    "    return all_predicted, df"
   ]
  },
  {
   "cell_type": "markdown",
   "metadata": {},
   "source": [
    "## Generate Predictions"
   ]
  },
  {
   "cell_type": "code",
   "execution_count": 23,
   "metadata": {},
   "outputs": [],
   "source": [
    "standard_exog_columns = ['wind_speed', 'wind_dir', 'temp']\n",
    "standard_exog_columns_2 = ['wind_speed', 'wind_dir_sin', 'wind_dir_cos', 'temp']\n",
    "month_exog_columns = [f'month_{i}' for i in range (1, 13)]\n",
    "REGIONS = ['Thailand', 'Myanmar', 'Cambodia', 'Lao_PDR', 'P_Malaysia']"
   ]
  },
  {
   "cell_type": "markdown",
   "metadata": {},
   "source": [
    "### 0.1 (Baseline - uses only standard exog columns)"
   ]
  },
  {
   "cell_type": "code",
   "execution_count": 28,
   "metadata": {},
   "outputs": [
    {
     "name": "stdout",
     "output_type": "stream",
     "text": [
      "Province [1/6]: BKK\n",
      "(start at: 2022-04-21 02:39:10)\n",
      "Parameters: order = (1, 0, 1), seasonal_order = (0, 1, 1, 12)\n",
      "Exog Columns: ['wind_speed', 'wind_dir', 'temp']\n"
     ]
    },
    {
     "name": "stderr",
     "output_type": "stream",
     "text": [
      "100%|███████████████████████████████████████| 1464/1464 [41:23<00:00,  1.70s/it]\n"
     ]
    },
    {
     "name": "stdout",
     "output_type": "stream",
     "text": [
      "Test on SARIMAX with RMSE = 6.0741\n",
      "(finish at: 2022-04-21 03:20:57)\n",
      "\n",
      "Province [2/6]: Chiangmai\n",
      "(start at: 2022-04-21 03:20:57)\n",
      "Parameters: order = (1, 0, 1), seasonal_order = (0, 1, 1, 12)\n",
      "Exog Columns: ['wind_speed', 'wind_dir', 'temp']\n"
     ]
    },
    {
     "name": "stderr",
     "output_type": "stream",
     "text": [
      "100%|███████████████████████████████████████| 1464/1464 [39:43<00:00,  1.63s/it]\n"
     ]
    },
    {
     "name": "stdout",
     "output_type": "stream",
     "text": [
      "Test on SARIMAX with RMSE = 9.7507\n",
      "(finish at: 2022-04-21 04:00:59)\n",
      "\n",
      "Province [3/6]: Rayong\n",
      "(start at: 2022-04-21 04:00:59)\n",
      "Parameters: order = (1, 0, 1), seasonal_order = (0, 1, 1, 12)\n",
      "Exog Columns: ['wind_speed', 'wind_dir', 'temp']\n"
     ]
    },
    {
     "name": "stderr",
     "output_type": "stream",
     "text": [
      "100%|███████████████████████████████████████| 1464/1464 [39:57<00:00,  1.64s/it]\n"
     ]
    },
    {
     "name": "stdout",
     "output_type": "stream",
     "text": [
      "Test on SARIMAX with RMSE = 7.5361\n",
      "(finish at: 2022-04-21 04:41:19)\n",
      "\n",
      "Province [4/6]: Saraburi\n",
      "(start at: 2022-04-21 04:41:19)\n",
      "Parameters: order = (1, 0, 1), seasonal_order = (0, 1, 1, 12)\n",
      "Exog Columns: ['wind_speed', 'wind_dir', 'temp']\n"
     ]
    },
    {
     "name": "stderr",
     "output_type": "stream",
     "text": [
      "100%|███████████████████████████████████████| 1464/1464 [39:33<00:00,  1.62s/it]\n"
     ]
    },
    {
     "name": "stdout",
     "output_type": "stream",
     "text": [
      "Test on SARIMAX with RMSE = 10.7188\n",
      "(finish at: 2022-04-21 05:21:12)\n",
      "\n",
      "Province [5/6]: Khonkaen\n",
      "(start at: 2022-04-21 05:21:12)\n",
      "Parameters: order = (1, 0, 1), seasonal_order = (0, 1, 1, 12)\n",
      "Exog Columns: ['wind_speed', 'wind_dir', 'temp']\n"
     ]
    },
    {
     "name": "stderr",
     "output_type": "stream",
     "text": [
      "100%|███████████████████████████████████████| 1464/1464 [36:04<00:00,  1.48s/it]\n"
     ]
    },
    {
     "name": "stdout",
     "output_type": "stream",
     "text": [
      "Test on SARIMAX with RMSE = 10.1522\n",
      "(finish at: 2022-04-21 05:57:33)\n",
      "\n",
      "Province [6/6]: Surat\n",
      "(start at: 2022-04-21 05:57:33)\n",
      "Parameters: order = (1, 0, 1), seasonal_order = (0, 1, 1, 12)\n",
      "Exog Columns: ['wind_speed', 'wind_dir', 'temp']\n"
     ]
    },
    {
     "name": "stderr",
     "output_type": "stream",
     "text": [
      "100%|███████████████████████████████████████| 1464/1464 [25:29<00:00,  1.05s/it]\n"
     ]
    },
    {
     "name": "stdout",
     "output_type": "stream",
     "text": [
      "Test on SARIMAX with RMSE = 5.4867\n",
      "(finish at: 2022-04-21 06:23:15)\n",
      "\n",
      "-----------------------------------------------------------------\n",
      "Final test on SARIMAX with RMSE = 8.5169\n",
      "-----------------------------------------------------------------\n",
      "Total of 94248 predicted rows\n"
     ]
    }
   ],
   "source": [
    "#baseline 0.1\n",
    "exog_columns_d = {\n",
    "    'BKK': standard_exog_columns,\n",
    "    'Chiangmai': standard_exog_columns,\n",
    "    'Rayong': standard_exog_columns,\n",
    "    'Saraburi': standard_exog_columns,\n",
    "    'Khonkaen': standard_exog_columns,\n",
    "    'Surat': standard_exog_columns\n",
    "}\n",
    "\n",
    "is_month_included_d = {\n",
    "    'BKK': False, 'Chiangmai': False, 'Rayong': False, 'Saraburi': False, 'Khonkaen': False, 'Surat': False\n",
    "}\n",
    "\n",
    "\n",
    "best_order_d = {\n",
    "    'BKK': (1, 0, 1),\n",
    "    'Chiangmai': (1, 0, 1),\n",
    "    'Rayong': (1, 0, 1),\n",
    "    'Saraburi': (1, 0, 1),\n",
    "    'Khonkaen': (1, 0, 1),\n",
    "    'Surat': (1, 0, 1)\n",
    "}\n",
    "\n",
    "s = 12\n",
    "best_seasonal_order_d = {\n",
    "    'BKK': (0, 1, 1, s),\n",
    "    'Chiangmai': (0, 1, 1, s),\n",
    "    'Rayong': (0, 1, 1, s),\n",
    "    'Saraburi': (0, 1, 1, s),\n",
    "    'Khonkaen': (0, 1, 1, s),\n",
    "    'Surat': (0, 1, 1, s)    \n",
    "}\n",
    "\n",
    "province_arr = LOCS\n",
    "\n",
    "# -----------------------------------------------------------------------------------------------------------\n",
    "\n",
    "filename_0_1 = 'submission0_1.csv'\n",
    "all_predicted_0_1, df_submission_0_1 = generate_result_on_all_provinces(province_arr, dfs_train, dfs_test, exog_columns_d, best_order_d, best_seasonal_order_d, is_month_included_d, filename_0_1)"
   ]
  },
  {
   "cell_type": "markdown",
   "metadata": {},
   "source": [
    "### 0.2 (Baseline 2 - Change wind_dir to wind_dir_sin and wind_dir_cos)"
   ]
  },
  {
   "cell_type": "code",
   "execution_count": 30,
   "metadata": {},
   "outputs": [
    {
     "name": "stdout",
     "output_type": "stream",
     "text": [
      "Province [1/6]: BKK\n",
      "(start at: 2022-04-21 10:59:12)\n",
      "Parameters: order = (1, 0, 1), seasonal_order = (0, 1, 1, 12)\n",
      "Exog Columns: ['wind_speed', 'wind_dir_sin', 'wind_dir_cos', 'temp']\n"
     ]
    },
    {
     "name": "stderr",
     "output_type": "stream",
     "text": [
      "100%|███████████████████████████████████████| 1464/1464 [50:05<00:00,  2.05s/it]\n"
     ]
    },
    {
     "name": "stdout",
     "output_type": "stream",
     "text": [
      "Test on SARIMAX with RMSE = 6.1158\n",
      "(finish at: 2022-04-21 11:49:45)\n",
      "\n",
      "Province [2/6]: Chiangmai\n",
      "(start at: 2022-04-21 11:49:45)\n",
      "Parameters: order = (1, 0, 1), seasonal_order = (0, 1, 1, 12)\n",
      "Exog Columns: ['wind_speed', 'wind_dir_sin', 'wind_dir_cos', 'temp']\n"
     ]
    },
    {
     "name": "stderr",
     "output_type": "stream",
     "text": [
      "100%|███████████████████████████████████████| 1464/1464 [49:31<00:00,  2.03s/it]\n"
     ]
    },
    {
     "name": "stdout",
     "output_type": "stream",
     "text": [
      "Test on SARIMAX with RMSE = 9.7592\n",
      "(finish at: 2022-04-21 12:39:39)\n",
      "\n",
      "Province [3/6]: Rayong\n",
      "(start at: 2022-04-21 12:39:39)\n",
      "Parameters: order = (1, 0, 1), seasonal_order = (0, 1, 1, 12)\n",
      "Exog Columns: ['wind_speed', 'wind_dir_sin', 'wind_dir_cos', 'temp']\n"
     ]
    },
    {
     "name": "stderr",
     "output_type": "stream",
     "text": [
      "100%|███████████████████████████████████████| 1464/1464 [55:57<00:00,  2.29s/it]\n"
     ]
    },
    {
     "name": "stdout",
     "output_type": "stream",
     "text": [
      "Test on SARIMAX with RMSE = 7.5783\n",
      "(finish at: 2022-04-21 13:36:02)\n",
      "\n",
      "Province [4/6]: Saraburi\n",
      "(start at: 2022-04-21 13:36:02)\n",
      "Parameters: order = (1, 0, 1), seasonal_order = (0, 1, 1, 12)\n",
      "Exog Columns: ['wind_speed', 'wind_dir_sin', 'wind_dir_cos', 'temp']\n"
     ]
    },
    {
     "name": "stderr",
     "output_type": "stream",
     "text": [
      "100%|█████████████████████████████████████| 1464/1464 [1:00:28<00:00,  2.48s/it]\n"
     ]
    },
    {
     "name": "stdout",
     "output_type": "stream",
     "text": [
      "Test on SARIMAX with RMSE = 10.7516\n",
      "(finish at: 2022-04-21 14:36:59)\n",
      "\n",
      "Province [5/6]: Khonkaen\n",
      "(start at: 2022-04-21 14:36:59)\n",
      "Parameters: order = (1, 0, 1), seasonal_order = (0, 1, 1, 12)\n",
      "Exog Columns: ['wind_speed', 'wind_dir_sin', 'wind_dir_cos', 'temp']\n"
     ]
    },
    {
     "name": "stderr",
     "output_type": "stream",
     "text": [
      "100%|███████████████████████████████████████| 1464/1464 [56:31<00:00,  2.32s/it]\n"
     ]
    },
    {
     "name": "stdout",
     "output_type": "stream",
     "text": [
      "Test on SARIMAX with RMSE = 10.1081\n",
      "(finish at: 2022-04-21 15:33:56)\n",
      "\n",
      "Province [6/6]: Surat\n",
      "(start at: 2022-04-21 15:33:56)\n",
      "Parameters: order = (1, 0, 1), seasonal_order = (0, 1, 1, 12)\n",
      "Exog Columns: ['wind_speed', 'wind_dir_sin', 'wind_dir_cos', 'temp']\n"
     ]
    },
    {
     "name": "stderr",
     "output_type": "stream",
     "text": [
      "100%|███████████████████████████████████████| 1464/1464 [39:44<00:00,  1.63s/it]\n"
     ]
    },
    {
     "name": "stdout",
     "output_type": "stream",
     "text": [
      "Test on SARIMAX with RMSE = 5.4792\n",
      "(finish at: 2022-04-21 16:13:56)\n",
      "\n",
      "-----------------------------------------------------------------\n",
      "Final test on SARIMAX with RMSE = 8.5271\n",
      "-----------------------------------------------------------------\n",
      "Total of 94248 predicted rows\n"
     ]
    }
   ],
   "source": [
    "#baseline 0.2\n",
    "exog_columns_d = {\n",
    "    'BKK': standard_exog_columns_2,\n",
    "    'Chiangmai': standard_exog_columns_2,\n",
    "    'Rayong': standard_exog_columns_2,\n",
    "    'Saraburi': standard_exog_columns_2,\n",
    "    'Khonkaen': standard_exog_columns_2,\n",
    "    'Surat': standard_exog_columns_2\n",
    "}\n",
    "\n",
    "is_month_included_d = {\n",
    "    'BKK': False, 'Chiangmai': False, 'Rayong': False, 'Saraburi': False, 'Khonkaen': False, 'Surat': False\n",
    "}\n",
    "\n",
    "\n",
    "best_order_d = {\n",
    "    'BKK': (1, 0, 1),\n",
    "    'Chiangmai': (1, 0, 1),\n",
    "    'Rayong': (1, 0, 1),\n",
    "    'Saraburi': (1, 0, 1),\n",
    "    'Khonkaen': (1, 0, 1),\n",
    "    'Surat': (1, 0, 1)\n",
    "}\n",
    "\n",
    "s = 12\n",
    "best_seasonal_order_d = {\n",
    "    'BKK': (0, 1, 1, s),\n",
    "    'Chiangmai': (0, 1, 1, s),\n",
    "    'Rayong': (0, 1, 1, s),\n",
    "    'Saraburi': (0, 1, 1, s),\n",
    "    'Khonkaen': (0, 1, 1, s),\n",
    "    'Surat': (0, 1, 1, s)    \n",
    "}\n",
    "\n",
    "\n",
    "province_arr = LOCS\n",
    "\n",
    "# -----------------------------------------------------------------------------------------------------------\n",
    "\n",
    "filename_0_2 = 'submission0_2.csv'\n",
    "all_predicted_0_2, df_submission_0_2 = generate_result_on_all_provinces(province_arr, dfs_train, dfs_test, exog_columns_d, best_order_d, best_seasonal_order_d, is_month_included_d, filename_0_2)"
   ]
  },
  {
   "cell_type": "markdown",
   "metadata": {},
   "source": [
    "### 1. Use month columns and some hotspot columns with standard_exog_columns (s = 4)"
   ]
  },
  {
   "cell_type": "code",
   "execution_count": 14,
   "metadata": {
    "scrolled": false
   },
   "outputs": [
    {
     "name": "stdout",
     "output_type": "stream",
     "text": [
      "Province [1/6]: BKK\n",
      "(start at: 2022-04-20 02:10:56)\n",
      "Parameters: order = (1, 0, 1), seasonal_order = (0, 1, 1, 4)\n",
      "Exog Columns: ['wind_speed', 'wind_dir', 'temp', 'hotspot_thailand', 'hotspot_cambodia', 'month_1', 'month_2', 'month_3', 'month_4', 'month_5', 'month_6', 'month_7', 'month_8', 'month_9', 'month_10', 'month_11', 'month_12']\n"
     ]
    },
    {
     "name": "stderr",
     "output_type": "stream",
     "text": [
      "100%|███████████████████████████████████████| 1464/1464 [13:03<00:00,  1.87it/s]\n"
     ]
    },
    {
     "name": "stdout",
     "output_type": "stream",
     "text": [
      "Test on SARIMAX with RMSE = 7.9826\n",
      "(finish at: 2022-04-20 02:24:15)\n",
      "\n",
      "Province [2/6]: Chiangmai\n",
      "(start at: 2022-04-20 02:24:15)\n",
      "Parameters: order = (1, 0, 1), seasonal_order = (0, 1, 1, 4)\n",
      "Exog Columns: ['wind_speed', 'wind_dir', 'temp', 'hotspot_thailand', 'hotspot_myanmar', 'hotspot_lao_pdr', 'month_1', 'month_2', 'month_3', 'month_4', 'month_5', 'month_6', 'month_7', 'month_8', 'month_9', 'month_10', 'month_11', 'month_12']\n"
     ]
    },
    {
     "name": "stderr",
     "output_type": "stream",
     "text": [
      "100%|███████████████████████████████████████| 1464/1464 [15:53<00:00,  1.54it/s]\n"
     ]
    },
    {
     "name": "stdout",
     "output_type": "stream",
     "text": [
      "Test on SARIMAX with RMSE = 13.2276\n",
      "(finish at: 2022-04-20 02:40:32)\n",
      "\n",
      "Province [3/6]: Rayong\n",
      "(start at: 2022-04-20 02:40:32)\n",
      "Parameters: order = (1, 0, 1), seasonal_order = (0, 1, 1, 4)\n",
      "Exog Columns: ['wind_speed', 'wind_dir', 'temp', 'hotspot_thailand', 'hotspot_cambodia', 'month_1', 'month_2', 'month_3', 'month_4', 'month_5', 'month_6', 'month_7', 'month_8', 'month_9', 'month_10', 'month_11', 'month_12']\n"
     ]
    },
    {
     "name": "stderr",
     "output_type": "stream",
     "text": [
      "100%|███████████████████████████████████████| 1464/1464 [14:12<00:00,  1.72it/s]\n"
     ]
    },
    {
     "name": "stdout",
     "output_type": "stream",
     "text": [
      "Test on SARIMAX with RMSE = 9.9906\n",
      "(finish at: 2022-04-20 02:55:06)\n",
      "\n",
      "Province [4/6]: Saraburi\n",
      "(start at: 2022-04-20 02:55:06)\n",
      "Parameters: order = (1, 0, 1), seasonal_order = (0, 1, 1, 4)\n",
      "Exog Columns: ['wind_speed', 'wind_dir', 'temp', 'hotspot_thailand', 'hotspot_cambodia', 'month_1', 'month_2', 'month_3', 'month_4', 'month_5', 'month_6', 'month_7', 'month_8', 'month_9', 'month_10', 'month_11', 'month_12']\n"
     ]
    },
    {
     "name": "stderr",
     "output_type": "stream",
     "text": [
      "100%|███████████████████████████████████████| 1464/1464 [14:28<00:00,  1.69it/s]\n"
     ]
    },
    {
     "name": "stdout",
     "output_type": "stream",
     "text": [
      "Test on SARIMAX with RMSE = 11.6945\n",
      "(finish at: 2022-04-20 03:09:57)\n",
      "\n",
      "Province [5/6]: Khonkaen\n",
      "(start at: 2022-04-20 03:09:57)\n",
      "Parameters: order = (1, 0, 1), seasonal_order = (1, 1, 1, 4)\n",
      "Exog Columns: ['wind_speed', 'wind_dir', 'temp', 'hotspot_thailand', 'hotspot_myanmar', 'hotspot_lao_pdr', 'month_1', 'month_2', 'month_3', 'month_4', 'month_5', 'month_6', 'month_7', 'month_8', 'month_9', 'month_10', 'month_11', 'month_12']\n"
     ]
    },
    {
     "name": "stderr",
     "output_type": "stream",
     "text": [
      "100%|███████████████████████████████████████| 1464/1464 [15:24<00:00,  1.58it/s]\n"
     ]
    },
    {
     "name": "stdout",
     "output_type": "stream",
     "text": [
      "Test on SARIMAX with RMSE = 10.9698\n",
      "(finish at: 2022-04-20 03:25:51)\n",
      "\n",
      "Province [6/6]: Surat\n",
      "(start at: 2022-04-20 03:25:51)\n",
      "Parameters: order = (1, 0, 1), seasonal_order = (0, 1, 1, 12)\n",
      "Exog Columns: ['wind_speed', 'wind_dir', 'temp', 'hotspot_thailand', 'hotspot_p_malaysia', 'month_1', 'month_2', 'month_3', 'month_4', 'month_5', 'month_6', 'month_7', 'month_8', 'month_9', 'month_10', 'month_11', 'month_12']\n"
     ]
    },
    {
     "name": "stderr",
     "output_type": "stream",
     "text": [
      "100%|███████████████████████████████████████| 1464/1464 [39:41<00:00,  1.63s/it]\n"
     ]
    },
    {
     "name": "stdout",
     "output_type": "stream",
     "text": [
      "Test on SARIMAX with RMSE = 5.3740\n",
      "(finish at: 2022-04-20 04:06:24)\n",
      "\n",
      "-----------------------------------------------------------------\n",
      "Final test on SARIMAX with RMSE = 10.1866\n",
      "-----------------------------------------------------------------\n",
      "Total of 94248 predicted rows\n"
     ]
    }
   ],
   "source": [
    "exog_columns_d = {\n",
    "    'BKK': standard_exog_columns + [f'hotspot_{REGIONS[i].lower()}' for i in [0, 2]] + month_exog_columns,\n",
    "    'Chiangmai': standard_exog_columns + [f'hotspot_{REGIONS[i].lower()}' for i in [0, 1, 3]] + month_exog_columns,\n",
    "    'Rayong': standard_exog_columns + [f'hotspot_{REGIONS[i].lower()}' for i in [0, 2]] + month_exog_columns,\n",
    "    'Saraburi': standard_exog_columns + [f'hotspot_{REGIONS[i].lower()}' for i in [0, 2]] + month_exog_columns,\n",
    "    'Khonkaen': standard_exog_columns + [f'hotspot_{REGIONS[i].lower()}' for i in [0, 1, 3]] + month_exog_columns,\n",
    "    'Surat': standard_exog_columns + [f'hotspot_{REGIONS[i].lower()}' for i in [0, 4]] + month_exog_columns\n",
    "}\n",
    "\n",
    "is_month_included_d = {\n",
    "    'BKK': True, 'Chiangmai': True, 'Rayong': True, 'Saraburi': True, 'Khonkaen': True, 'Surat': True\n",
    "}\n",
    "\n",
    "\n",
    "best_order_d = {\n",
    "    'BKK': (1, 0, 1),\n",
    "    'Chiangmai': (1, 0, 1),\n",
    "    'Rayong': (1, 0, 1),\n",
    "    'Saraburi': (1, 0, 1),\n",
    "    'Khonkaen': (1, 0, 1),\n",
    "    'Surat': (1, 0, 1)\n",
    "}\n",
    "\n",
    "s = 4\n",
    "best_seasonal_order_d = {\n",
    "    'BKK': (0, 1, 1, s),\n",
    "    'Chiangmai': (0, 1, 1, s),\n",
    "    'Rayong': (0, 1, 1, s),\n",
    "    'Saraburi': (0, 1, 1, s),\n",
    "    'Khonkaen': (1, 1, 1, s),\n",
    "    'Surat': (0, 1, 1, 12)    \n",
    "}\n",
    "\n",
    "province_arr = LOCS\n",
    "\n",
    "# -----------------------------------------------------------------------------------------------------------\n",
    "\n",
    "filename_1 = 'submission1.csv'\n",
    "all_predicted_1, df_submission_1 = generate_result_on_all_provinces(province_arr, dfs_train, dfs_test, exog_columns_d, best_order_d, best_seasonal_order_d, is_month_included_d, filename_1)"
   ]
  },
  {
   "cell_type": "markdown",
   "metadata": {},
   "source": [
    "### 2."
   ]
  },
  {
   "cell_type": "code",
   "execution_count": 15,
   "metadata": {},
   "outputs": [
    {
     "name": "stdout",
     "output_type": "stream",
     "text": [
      "Province [1/6]: BKK\n",
      "(start at: 2022-04-20 04:06:24)\n",
      "Parameters: order = (1, 0, 1), seasonal_order = (0, 1, 1, 12)\n",
      "Exog Columns: ['wind_speed', 'wind_dir', 'temp', 'hotspot_thailand', 'hotspot_cambodia', 'month_1', 'month_2', 'month_3', 'month_4', 'month_5', 'month_6', 'month_7', 'month_8', 'month_9', 'month_10', 'month_11', 'month_12']\n"
     ]
    },
    {
     "name": "stderr",
     "output_type": "stream",
     "text": [
      "100%|█████████████████████████████████████| 1464/1464 [1:10:18<00:00,  2.88s/it]\n"
     ]
    },
    {
     "name": "stdout",
     "output_type": "stream",
     "text": [
      "Test on SARIMAX with RMSE = 6.6816\n",
      "(finish at: 2022-04-20 05:18:14)\n",
      "\n",
      "Province [2/6]: Chiangmai\n",
      "(start at: 2022-04-20 05:18:14)\n",
      "Parameters: order = (1, 0, 1), seasonal_order = (0, 1, 1, 12)\n",
      "Exog Columns: ['wind_speed', 'wind_dir', 'temp', 'hotspot_thailand', 'hotspot_myanmar', 'hotspot_lao_pdr', 'month_1', 'month_2', 'month_3', 'month_4', 'month_5', 'month_6', 'month_7', 'month_8', 'month_9', 'month_10', 'month_11', 'month_12']\n"
     ]
    },
    {
     "name": "stderr",
     "output_type": "stream",
     "text": [
      "100%|█████████████████████████████████████| 1464/1464 [1:21:43<00:00,  3.35s/it]\n"
     ]
    },
    {
     "name": "stdout",
     "output_type": "stream",
     "text": [
      "Test on SARIMAX with RMSE = 12.0228\n",
      "(finish at: 2022-04-20 06:41:27)\n",
      "\n",
      "Province [3/6]: Rayong\n",
      "(start at: 2022-04-20 06:41:27)\n",
      "Parameters: order = (1, 0, 1), seasonal_order = (0, 1, 1, 12)\n",
      "Exog Columns: ['wind_speed', 'wind_dir', 'temp', 'hotspot_thailand', 'hotspot_cambodia', 'month_1', 'month_2', 'month_3', 'month_4', 'month_5', 'month_6', 'month_7', 'month_8', 'month_9', 'month_10', 'month_11', 'month_12']\n"
     ]
    },
    {
     "name": "stderr",
     "output_type": "stream",
     "text": [
      "100%|███████████████████████████████████████| 1464/1464 [59:46<00:00,  2.45s/it]\n"
     ]
    },
    {
     "name": "stdout",
     "output_type": "stream",
     "text": [
      "Test on SARIMAX with RMSE = 7.9307\n",
      "(finish at: 2022-04-20 07:42:43)\n",
      "\n",
      "Province [4/6]: Saraburi\n",
      "(start at: 2022-04-20 07:42:43)\n",
      "Parameters: order = (1, 0, 1), seasonal_order = (0, 1, 1, 12)\n",
      "Exog Columns: ['wind_speed', 'wind_dir', 'temp', 'hotspot_thailand', 'hotspot_cambodia', 'month_1', 'month_2', 'month_3', 'month_4', 'month_5', 'month_6', 'month_7', 'month_8', 'month_9', 'month_10', 'month_11', 'month_12']\n"
     ]
    },
    {
     "name": "stderr",
     "output_type": "stream",
     "text": [
      "100%|█████████████████████████████████████| 1464/1464 [1:00:03<00:00,  2.46s/it]\n"
     ]
    },
    {
     "name": "stdout",
     "output_type": "stream",
     "text": [
      "Test on SARIMAX with RMSE = 12.6007\n",
      "(finish at: 2022-04-20 08:44:15)\n",
      "\n",
      "Province [5/6]: Khonkaen\n",
      "(start at: 2022-04-20 08:44:15)\n",
      "Parameters: order = (1, 0, 1), seasonal_order = (1, 1, 1, 12)\n",
      "Exog Columns: ['wind_speed', 'wind_dir', 'temp', 'hotspot_thailand', 'hotspot_myanmar', 'hotspot_lao_pdr', 'month_1', 'month_2', 'month_3', 'month_4', 'month_5', 'month_6', 'month_7', 'month_8', 'month_9', 'month_10', 'month_11', 'month_12']\n"
     ]
    },
    {
     "name": "stderr",
     "output_type": "stream",
     "text": [
      "100%|█████████████████████████████████████| 1464/1464 [1:16:55<00:00,  3.15s/it]\n"
     ]
    },
    {
     "name": "stdout",
     "output_type": "stream",
     "text": [
      "Test on SARIMAX with RMSE = 12.4214\n",
      "(finish at: 2022-04-20 10:02:45)\n",
      "\n",
      "Province [6/6]: Surat\n",
      "(start at: 2022-04-20 10:02:45)\n",
      "Parameters: order = (1, 0, 1), seasonal_order = (0, 1, 1, 12)\n",
      "Exog Columns: ['wind_speed', 'wind_dir', 'temp', 'hotspot_thailand', 'hotspot_p_malaysia', 'month_1', 'month_2', 'month_3', 'month_4', 'month_5', 'month_6', 'month_7', 'month_8', 'month_9', 'month_10', 'month_11', 'month_12']\n"
     ]
    },
    {
     "name": "stderr",
     "output_type": "stream",
     "text": [
      "100%|███████████████████████████████████████| 1464/1464 [46:52<00:00,  1.92s/it]\n"
     ]
    },
    {
     "name": "stdout",
     "output_type": "stream",
     "text": [
      "Test on SARIMAX with RMSE = 5.3740\n",
      "(finish at: 2022-04-20 10:50:14)\n",
      "\n",
      "-----------------------------------------------------------------\n",
      "Final test on SARIMAX with RMSE = 9.9270\n",
      "-----------------------------------------------------------------\n",
      "Total of 94248 predicted rows\n"
     ]
    }
   ],
   "source": [
    "exog_columns_d = {\n",
    "    'BKK': standard_exog_columns + [f'hotspot_{REGIONS[i].lower()}' for i in [0, 2]] + month_exog_columns,\n",
    "    'Chiangmai': standard_exog_columns + [f'hotspot_{REGIONS[i].lower()}' for i in [0, 1, 3]] + month_exog_columns,\n",
    "    'Rayong': standard_exog_columns + [f'hotspot_{REGIONS[i].lower()}' for i in [0, 2]] + month_exog_columns,\n",
    "    'Saraburi': standard_exog_columns + [f'hotspot_{REGIONS[i].lower()}' for i in [0, 2]] + month_exog_columns,\n",
    "    'Khonkaen': standard_exog_columns + [f'hotspot_{REGIONS[i].lower()}' for i in [0, 1, 3]] + month_exog_columns,\n",
    "    'Surat': standard_exog_columns + [f'hotspot_{REGIONS[i].lower()}' for i in [0, 4]] + month_exog_columns\n",
    "}\n",
    "\n",
    "is_month_included_d = {\n",
    "    'BKK': True, 'Chiangmai': True, 'Rayong': True, 'Saraburi': True, 'Khonkaen': True, 'Surat': True\n",
    "}\n",
    "\n",
    "\n",
    "best_order_d = {\n",
    "    'BKK': (1, 0, 1),\n",
    "    'Chiangmai': (1, 0, 1),\n",
    "    'Rayong': (1, 0, 1),\n",
    "    'Saraburi': (1, 0, 1),\n",
    "    'Khonkaen': (1, 0, 1),\n",
    "    'Surat': (1, 0, 1)\n",
    "}\n",
    "\n",
    "s = 12\n",
    "best_seasonal_order_d = {\n",
    "    'BKK': (0, 1, 1, s),\n",
    "    'Chiangmai': (0, 1, 1, s),\n",
    "    'Rayong': (0, 1, 1, s),\n",
    "    'Saraburi': (0, 1, 1, s),\n",
    "    'Khonkaen': (1, 1, 1, s),\n",
    "    'Surat': (0, 1, 1, 12)    \n",
    "}\n",
    "\n",
    "province_arr = LOCS\n",
    "\n",
    "# -----------------------------------------------------------------------------------------------------------\n",
    "\n",
    "filename_2 = 'submission2.csv'\n",
    "all_predicted_2, df_submission_2 = generate_result_on_all_provinces(province_arr, dfs_train, dfs_test, exog_columns_d, best_order_d, best_seasonal_order_d, is_month_included_d, filename_2)"
   ]
  },
  {
   "cell_type": "markdown",
   "metadata": {},
   "source": [
    "### 3."
   ]
  },
  {
   "cell_type": "code",
   "execution_count": 24,
   "metadata": {},
   "outputs": [
    {
     "name": "stdout",
     "output_type": "stream",
     "text": [
      "Province [1/6]: BKK\n",
      "(start at: 2022-04-20 12:26:25)\n",
      "Parameters: order = (1, 0, 1), seasonal_order = (0, 1, 1, 12)\n",
      "Exog Columns: ['wind_speed', 'wind_dir_sin', 'wind_dir_cos', 'temp', 'hotspot_thailand', 'hotspot_cambodia', 'month_1', 'month_2', 'month_3', 'month_4', 'month_5', 'month_6', 'month_7', 'month_8', 'month_9', 'month_10', 'month_11', 'month_12']\n"
     ]
    },
    {
     "name": "stderr",
     "output_type": "stream",
     "text": [
      "100%|█████████████████████████████████████| 1464/1464 [1:19:33<00:00,  3.26s/it]\n"
     ]
    },
    {
     "name": "stdout",
     "output_type": "stream",
     "text": [
      "Test on SARIMAX with RMSE = 6.6024\n",
      "(finish at: 2022-04-20 13:47:04)\n",
      "\n",
      "Province [2/6]: Chiangmai\n",
      "(start at: 2022-04-20 13:47:04)\n",
      "Parameters: order = (1, 0, 1), seasonal_order = (0, 1, 1, 12)\n",
      "Exog Columns: ['wind_speed', 'wind_dir_sin', 'wind_dir_cos', 'temp', 'hotspot_thailand', 'hotspot_myanmar', 'hotspot_lao_pdr', 'month_1', 'month_2', 'month_3', 'month_4', 'month_5', 'month_6', 'month_7', 'month_8', 'month_9', 'month_10', 'month_11', 'month_12']\n"
     ]
    },
    {
     "name": "stderr",
     "output_type": "stream",
     "text": [
      "100%|█████████████████████████████████████| 1464/1464 [1:31:14<00:00,  3.74s/it]\n"
     ]
    },
    {
     "name": "stdout",
     "output_type": "stream",
     "text": [
      "Test on SARIMAX with RMSE = 12.0486\n",
      "(finish at: 2022-04-20 15:19:20)\n",
      "\n",
      "Province [3/6]: Rayong\n",
      "(start at: 2022-04-20 15:19:20)\n",
      "Parameters: order = (1, 0, 1), seasonal_order = (0, 1, 1, 12)\n",
      "Exog Columns: ['wind_speed', 'wind_dir_sin', 'wind_dir_cos', 'temp', 'hotspot_thailand', 'hotspot_cambodia', 'month_1', 'month_2', 'month_3', 'month_4', 'month_5', 'month_6', 'month_7', 'month_8', 'month_9', 'month_10', 'month_11', 'month_12']\n"
     ]
    },
    {
     "name": "stderr",
     "output_type": "stream",
     "text": [
      "100%|█████████████████████████████████████| 1464/1464 [1:18:50<00:00,  3.23s/it]\n"
     ]
    },
    {
     "name": "stdout",
     "output_type": "stream",
     "text": [
      "Test on SARIMAX with RMSE = 7.8922\n",
      "(finish at: 2022-04-20 16:39:18)\n",
      "\n",
      "Province [4/6]: Saraburi\n",
      "(start at: 2022-04-20 16:39:18)\n",
      "Parameters: order = (1, 0, 1), seasonal_order = (0, 1, 1, 12)\n",
      "Exog Columns: ['wind_speed', 'wind_dir_sin', 'wind_dir_cos', 'temp', 'hotspot_thailand', 'hotspot_cambodia', 'month_1', 'month_2', 'month_3', 'month_4', 'month_5', 'month_6', 'month_7', 'month_8', 'month_9', 'month_10', 'month_11', 'month_12']\n"
     ]
    },
    {
     "name": "stderr",
     "output_type": "stream",
     "text": [
      "100%|█████████████████████████████████████| 1464/1464 [1:13:17<00:00,  3.00s/it]\n"
     ]
    },
    {
     "name": "stdout",
     "output_type": "stream",
     "text": [
      "Test on SARIMAX with RMSE = 12.5936\n",
      "(finish at: 2022-04-20 17:53:38)\n",
      "\n",
      "Province [5/6]: Khonkaen\n",
      "(start at: 2022-04-20 17:53:38)\n",
      "Parameters: order = (1, 0, 1), seasonal_order = (1, 1, 1, 12)\n",
      "Exog Columns: ['wind_speed', 'wind_dir_sin', 'wind_dir_cos', 'temp', 'hotspot_thailand', 'hotspot_myanmar', 'hotspot_lao_pdr', 'month_1', 'month_2', 'month_3', 'month_4', 'month_5', 'month_6', 'month_7', 'month_8', 'month_9', 'month_10', 'month_11', 'month_12']\n"
     ]
    },
    {
     "name": "stderr",
     "output_type": "stream",
     "text": [
      "100%|█████████████████████████████████████| 1464/1464 [1:23:02<00:00,  3.40s/it]\n"
     ]
    },
    {
     "name": "stdout",
     "output_type": "stream",
     "text": [
      "Test on SARIMAX with RMSE = 12.4263\n",
      "(finish at: 2022-04-20 19:17:49)\n",
      "\n",
      "Province [6/6]: Surat\n",
      "(start at: 2022-04-20 19:17:49)\n",
      "Parameters: order = (1, 0, 1), seasonal_order = (0, 1, 1, 12)\n",
      "Exog Columns: ['wind_speed', 'wind_dir_sin', 'wind_dir_cos', 'temp', 'hotspot_thailand', 'hotspot_p_malaysia', 'month_1', 'month_2', 'month_3', 'month_4', 'month_5', 'month_6', 'month_7', 'month_8', 'month_9', 'month_10', 'month_11', 'month_12']\n"
     ]
    },
    {
     "name": "stderr",
     "output_type": "stream",
     "text": [
      "100%|███████████████████████████████████████| 1464/1464 [57:31<00:00,  2.36s/it]\n"
     ]
    },
    {
     "name": "stdout",
     "output_type": "stream",
     "text": [
      "Test on SARIMAX with RMSE = 5.3786\n",
      "(finish at: 2022-04-20 20:16:01)\n",
      "\n",
      "-----------------------------------------------------------------\n",
      "Final test on SARIMAX with RMSE = 9.9183\n",
      "-----------------------------------------------------------------\n",
      "Total of 94248 predicted rows\n"
     ]
    }
   ],
   "source": [
    "exog_columns_d = {\n",
    "    'BKK': standard_exog_columns_2 + [f'hotspot_{REGIONS[i].lower()}' for i in [0, 2]] + month_exog_columns,\n",
    "    'Chiangmai': standard_exog_columns_2 + [f'hotspot_{REGIONS[i].lower()}' for i in [0, 1, 3]] + month_exog_columns,\n",
    "    'Rayong': standard_exog_columns_2 + [f'hotspot_{REGIONS[i].lower()}' for i in [0, 2]] + month_exog_columns,\n",
    "    'Saraburi': standard_exog_columns_2 + [f'hotspot_{REGIONS[i].lower()}' for i in [0, 2]] + month_exog_columns,\n",
    "    'Khonkaen': standard_exog_columns_2 + [f'hotspot_{REGIONS[i].lower()}' for i in [0, 1, 3]] + month_exog_columns,\n",
    "    'Surat': standard_exog_columns_2 + [f'hotspot_{REGIONS[i].lower()}' for i in [0, 4]] + month_exog_columns\n",
    "}\n",
    "\n",
    "is_month_included_d = {\n",
    "    'BKK': True, 'Chiangmai': True, 'Rayong': True, 'Saraburi': True, 'Khonkaen': True, 'Surat': True\n",
    "}\n",
    "\n",
    "\n",
    "best_order_d = {\n",
    "    'BKK': (1, 0, 1),\n",
    "    'Chiangmai': (1, 0, 1),\n",
    "    'Rayong': (1, 0, 1),\n",
    "    'Saraburi': (1, 0, 1),\n",
    "    'Khonkaen': (1, 0, 1),\n",
    "    'Surat': (1, 0, 1)\n",
    "}\n",
    "\n",
    "s = 12\n",
    "best_seasonal_order_d = {\n",
    "    'BKK': (0, 1, 1, s),\n",
    "    'Chiangmai': (0, 1, 1, s),\n",
    "    'Rayong': (0, 1, 1, s),\n",
    "    'Saraburi': (0, 1, 1, s),\n",
    "    'Khonkaen': (1, 1, 1, s),\n",
    "    'Surat': (0, 1, 1, s)    \n",
    "}\n",
    "\n",
    "province_arr = LOCS\n",
    "\n",
    "# -----------------------------------------------------------------------------------------------------------\n",
    "\n",
    "filename_3 = 'submission3.csv'\n",
    "all_predicted_3, df_submission_3 = generate_result_on_all_provinces(province_arr, dfs_train, dfs_test, exog_columns_d, best_order_d, best_seasonal_order_d, is_month_included_d, filename_3)"
   ]
  },
  {
   "cell_type": "markdown",
   "metadata": {},
   "source": [
    "### 4."
   ]
  },
  {
   "cell_type": "code",
   "execution_count": 25,
   "metadata": {},
   "outputs": [
    {
     "name": "stdout",
     "output_type": "stream",
     "text": [
      "Province [1/6]: BKK\n",
      "(start at: 2022-04-20 20:58:23)\n",
      "Parameters: order = (1, 0, 1), seasonal_order = (0, 1, 1, 12)\n",
      "Exog Columns: ['wind_speed', 'wind_dir_sin', 'wind_dir_cos', 'temp', 'month_1', 'month_2', 'month_3', 'month_4', 'month_5', 'month_6', 'month_7', 'month_8', 'month_9', 'month_10', 'month_11', 'month_12']\n"
     ]
    },
    {
     "name": "stderr",
     "output_type": "stream",
     "text": [
      "100%|█████████████████████████████████████| 1464/1464 [1:10:36<00:00,  2.89s/it]\n"
     ]
    },
    {
     "name": "stdout",
     "output_type": "stream",
     "text": [
      "Test on SARIMAX with RMSE = 6.0023\n",
      "(finish at: 2022-04-20 22:10:08)\n",
      "\n",
      "Province [2/6]: Chiangmai\n",
      "(start at: 2022-04-20 22:10:08)\n",
      "Parameters: order = (1, 0, 1), seasonal_order = (0, 1, 1, 12)\n",
      "Exog Columns: ['wind_speed', 'wind_dir_sin', 'wind_dir_cos', 'temp', 'month_1', 'month_2', 'month_3', 'month_4', 'month_5', 'month_6', 'month_7', 'month_8', 'month_9', 'month_10', 'month_11', 'month_12']\n"
     ]
    },
    {
     "name": "stderr",
     "output_type": "stream",
     "text": [
      "100%|█████████████████████████████████████| 1464/1464 [1:08:39<00:00,  2.81s/it]\n"
     ]
    },
    {
     "name": "stdout",
     "output_type": "stream",
     "text": [
      "Test on SARIMAX with RMSE = 9.8863\n",
      "(finish at: 2022-04-20 23:19:54)\n",
      "\n",
      "Province [3/6]: Rayong\n",
      "(start at: 2022-04-20 23:19:54)\n",
      "Parameters: order = (1, 0, 1), seasonal_order = (0, 1, 1, 12)\n",
      "Exog Columns: ['wind_speed', 'wind_dir_sin', 'wind_dir_cos', 'temp', 'month_1', 'month_2', 'month_3', 'month_4', 'month_5', 'month_6', 'month_7', 'month_8', 'month_9', 'month_10', 'month_11', 'month_12']\n"
     ]
    },
    {
     "name": "stderr",
     "output_type": "stream",
     "text": [
      "100%|███████████████████████████████████████| 1464/1464 [56:08<00:00,  2.30s/it]\n"
     ]
    },
    {
     "name": "stdout",
     "output_type": "stream",
     "text": [
      "Test on SARIMAX with RMSE = 7.5922\n",
      "(finish at: 2022-04-21 00:17:18)\n",
      "\n",
      "Province [4/6]: Saraburi\n",
      "(start at: 2022-04-21 00:17:18)\n",
      "Parameters: order = (1, 0, 1), seasonal_order = (0, 1, 1, 12)\n",
      "Exog Columns: ['wind_speed', 'wind_dir_sin', 'wind_dir_cos', 'temp', 'month_1', 'month_2', 'month_3', 'month_4', 'month_5', 'month_6', 'month_7', 'month_8', 'month_9', 'month_10', 'month_11', 'month_12']\n"
     ]
    },
    {
     "name": "stderr",
     "output_type": "stream",
     "text": [
      "100%|███████████████████████████████████████| 1464/1464 [51:03<00:00,  2.09s/it]\n"
     ]
    },
    {
     "name": "stdout",
     "output_type": "stream",
     "text": [
      "Test on SARIMAX with RMSE = 10.6020\n",
      "(finish at: 2022-04-21 01:09:18)\n",
      "\n",
      "Province [5/6]: Khonkaen\n",
      "(start at: 2022-04-21 01:09:18)\n",
      "Parameters: order = (1, 0, 1), seasonal_order = (0, 1, 1, 12)\n",
      "Exog Columns: ['wind_speed', 'wind_dir_sin', 'wind_dir_cos', 'temp', 'month_1', 'month_2', 'month_3', 'month_4', 'month_5', 'month_6', 'month_7', 'month_8', 'month_9', 'month_10', 'month_11', 'month_12']\n"
     ]
    },
    {
     "name": "stderr",
     "output_type": "stream",
     "text": [
      "100%|███████████████████████████████████████| 1464/1464 [46:31<00:00,  1.91s/it]\n"
     ]
    },
    {
     "name": "stdout",
     "output_type": "stream",
     "text": [
      "Test on SARIMAX with RMSE = 10.3298\n",
      "(finish at: 2022-04-21 01:56:39)\n",
      "\n",
      "Province [6/6]: Surat\n",
      "(start at: 2022-04-21 01:56:39)\n",
      "Parameters: order = (1, 0, 1), seasonal_order = (0, 1, 1, 12)\n",
      "Exog Columns: ['wind_speed', 'wind_dir_sin', 'wind_dir_cos', 'temp', 'month_1', 'month_2', 'month_3', 'month_4', 'month_5', 'month_6', 'month_7', 'month_8', 'month_9', 'month_10', 'month_11', 'month_12']\n"
     ]
    },
    {
     "name": "stderr",
     "output_type": "stream",
     "text": [
      "100%|███████████████████████████████████████| 1464/1464 [32:45<00:00,  1.34s/it]\n"
     ]
    },
    {
     "name": "stdout",
     "output_type": "stream",
     "text": [
      "Test on SARIMAX with RMSE = 5.3518\n",
      "(finish at: 2022-04-21 02:29:55)\n",
      "\n",
      "-----------------------------------------------------------------\n",
      "Final test on SARIMAX with RMSE = 8.5396\n",
      "-----------------------------------------------------------------\n",
      "Total of 94248 predicted rows\n"
     ]
    }
   ],
   "source": [
    "#don't use hotspot columns\n",
    "exog_columns_d = {\n",
    "    'BKK': standard_exog_columns_2 + month_exog_columns,\n",
    "    'Chiangmai': standard_exog_columns_2 + month_exog_columns,\n",
    "    'Rayong': standard_exog_columns_2 + month_exog_columns,\n",
    "    'Saraburi': standard_exog_columns_2 + month_exog_columns,\n",
    "    'Khonkaen': standard_exog_columns_2 + month_exog_columns,\n",
    "    'Surat': standard_exog_columns_2 + month_exog_columns\n",
    "}\n",
    "\n",
    "is_month_included_d = {\n",
    "    'BKK': True, 'Chiangmai': True, 'Rayong': True, 'Saraburi': True, 'Khonkaen': True, 'Surat': True\n",
    "}\n",
    "\n",
    "\n",
    "best_order_d = {\n",
    "    'BKK': (1, 0, 1),\n",
    "    'Chiangmai': (1, 0, 1),\n",
    "    'Rayong': (1, 0, 1),\n",
    "    'Saraburi': (1, 0, 1),\n",
    "    'Khonkaen': (1, 0, 1),\n",
    "    'Surat': (1, 0, 1)\n",
    "}\n",
    "\n",
    "s = 12\n",
    "best_seasonal_order_d = {\n",
    "    'BKK': (0, 1, 1, s),\n",
    "    'Chiangmai': (0, 1, 1, s),\n",
    "    'Rayong': (0, 1, 1, s),\n",
    "    'Saraburi': (0, 1, 1, s),\n",
    "    'Khonkaen': (0, 1, 1, s),\n",
    "    'Surat': (0, 1, 1, s)    \n",
    "}\n",
    "\n",
    "province_arr = LOCS\n",
    "\n",
    "# -----------------------------------------------------------------------------------------------------------\n",
    "\n",
    "filename_4 = 'submission4.csv'\n",
    "all_predicted_4, df_submission_4 = generate_result_on_all_provinces(province_arr, dfs_train, dfs_test, exog_columns_d, best_order_d, best_seasonal_order_d, is_month_included_d, filename_4)"
   ]
  },
  {
   "cell_type": "code",
   "execution_count": null,
   "metadata": {},
   "outputs": [],
   "source": []
  }
 ],
 "metadata": {
  "kernelspec": {
   "display_name": "Python 3 (ipykernel)",
   "language": "python",
   "name": "python3"
  },
  "language_info": {
   "codemirror_mode": {
    "name": "ipython",
    "version": 3
   },
   "file_extension": ".py",
   "mimetype": "text/x-python",
   "name": "python",
   "nbconvert_exporter": "python",
   "pygments_lexer": "ipython3",
   "version": "3.8.11"
  }
 },
 "nbformat": 4,
 "nbformat_minor": 4
}
